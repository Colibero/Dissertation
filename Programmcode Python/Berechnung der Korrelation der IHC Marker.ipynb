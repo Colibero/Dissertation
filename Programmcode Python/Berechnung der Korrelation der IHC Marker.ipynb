{
 "cells": [
  {
   "cell_type": "code",
   "execution_count": 1,
   "metadata": {},
   "outputs": [
    {
     "name": "stdout",
     "output_type": "stream",
     "text": [
      "all cells counted: 7504\n",
      "all cells counted: 4497\n",
      "all cells counted: 16928\n"
     ]
    }
   ],
   "source": [
    "##create dataframes containing the data from the manual validated counts of cells in the images from the HO-1, IBA-1 and CD206 stained tissue\n",
    "\n",
    "import pandas as pd\n",
    "import numpy as np\n",
    "import os\n",
    "list_image_cd206= os.listdir('d:/D_lw/APromotion/Bilder/cd206 main/raw_clean without 40-7 pgl muko/')\n",
    "list_cells_cd206= os.listdir('d:/D_lw/APromotion/Bilder/cd206 main/img_pos_musk/')\n",
    "\n",
    "list_image_iba1= os.listdir('d:/D_lw/APromotion/Bilder/iba1 main/raw_update/')\n",
    "list_cells_iba1= os.listdir('d:/D_lw/APromotion/Bilder/iba1 main/img_pos_musk/')\n",
    "\n",
    "\n",
    "#für ho1\n",
    "list_image_ho1= os.listdir('d:/D_lw/APromotion/Bilder/ho1 main/img_raw/')\n",
    "list_cells_ho1= os.listdir('d:/D_lw/APromotion/Bilder/ho1 main/img_pos_all/')\n",
    "list2=[]\n",
    "\n",
    "def create_dataframe(list_image, list_cells):        \n",
    "    list_image = [x[:29].lower() for x in list_image]\n",
    "    list_cells = [x[:29].lower() for x in list_cells]\n",
    "\n",
    "    df = pd.DataFrame(list_image ,columns= ['image'])\n",
    "\n",
    "    df['short_image'] = df['image'].str[:7]\n",
    "\n",
    "\n",
    "    df['portion'] = df['short_image'].str[5:7]\n",
    "    df['animal'] = df['short_image'].str[:2]\n",
    "    df['slide'] = df['short_image'].str[3]\n",
    "    df['layer'] = df['image'].apply(lambda x: 'musk' if 'musk' in x else 'muco')\n",
    "    df['genotype'] = df['animal'].apply(lambda x: 'WT' if int(x) in [36,38,41,43,45] else 'TG')\n",
    "    df['cell_count'] = df['image'].apply(lambda x: list_cells.count(x))\n",
    "\n",
    "    #print(df)\n",
    "    print('all cells counted:', df['cell_count'].sum())\n",
    "\n",
    "    df_musk = df.loc[df['layer']=='musk', ['image','short_image','genotype','animal', 'portion', 'cell_count']]\n",
    "    #print(df_musk)\n",
    "\n",
    "    df_slide = df_musk.groupby(['short_image']).agg({'cell_count': ['mean']}).reset_index()\n",
    "    #df_slide['animal'] = df_slide['short_image'].str[:2]\n",
    "    #df_slide['genotype'] = df_slide['animal'].apply(lambda x: 'WT' if int(x) in [36,38,41,43,45] else 'TG')\n",
    "    #df_slide['portion'] = df_slide['short_image'].str[5:7]\n",
    "    df_slide.columns = ['slide', 'mean_count']\n",
    "\n",
    "\n",
    "    return df_slide\n",
    "\n",
    "\n",
    "\n",
    "\n",
    "df_iba1 = create_dataframe(list_image_iba1, list_cells_iba1)\n",
    "df_cd206 = create_dataframe(list_image_cd206, list_cells_cd206)\n",
    "df_ho1 = create_dataframe(list_image_ho1, list_cells_ho1)\n"
   ]
  },
  {
   "cell_type": "code",
   "execution_count": 2,
   "metadata": {},
   "outputs": [
    {
     "name": "stdout",
     "output_type": "stream",
     "text": [
      "61\n"
     ]
    }
   ],
   "source": [
    "##merging the data from the different stains based on the sampling location\n",
    "\n",
    "import matplotlib.pyplot as plt\n",
    "list_slide =[]\n",
    "\n",
    "for i in df_iba1['slide']:\n",
    "    if i not in list_slide:\n",
    "        list_slide.append(i)\n",
    "\n",
    "for i in df_cd206['slide']:\n",
    "    if i not in list_slide:\n",
    "        list_slide.append(i)\n",
    "                \n",
    "for i in df_ho1['slide']:\n",
    "    if i not in list_slide:\n",
    "        list_slide.append(i)\n",
    "print(len(list_slide))\n",
    "df_slide_merge_ho1_iba1 =df_ho1.merge(df_iba1, on = 'slide')\n",
    "df_slide_merge_ho1_iba1.columns = ['slide', 'ho1', 'iba1']\n",
    "\n",
    "df_slide_merge_ho1_cd206 =df_ho1.merge(df_cd206, on = 'slide')\n",
    "df_slide_merge_ho1_cd206.columns = ['slide', 'ho1', 'cd206']\n",
    "\n",
    "\n",
    "df_slide_merge_iba1_cd206 =df_iba1.merge(df_cd206, on = 'slide')\n",
    "df_slide_merge_iba1_cd206.columns = ['slide', 'iba1', 'cd206']\n",
    "\n"
   ]
  },
  {
   "cell_type": "code",
   "execution_count": 3,
   "metadata": {},
   "outputs": [
    {
     "name": "stdout",
     "output_type": "stream",
     "text": [
      "            ho1      iba1     cd206      ckit\n",
      "ho1    1.000000  0.287517  0.183491  0.180496\n",
      "iba1   0.287517  1.000000  0.377998  0.242861\n",
      "cd206  0.183491  0.377998  1.000000 -0.157506\n",
      "ckit   0.180496  0.242861 -0.157506  1.000000\n"
     ]
    },
    {
     "data": {
      "image/png": "[encoded data removed]",
      "text/plain": [
       "<Figure size 432x288 with 1 Axes>"
      ]
     },
     "metadata": {
      "needs_background": "light"
     },
     "output_type": "display_data"
    }
   ],
   "source": [
    "import pandas as pd\n",
    "import matplotlib.pyplot as plt\n",
    "from mpl_toolkits.mplot3d import Axes3D\n",
    "\n",
    "## load manual counts of ICC and calculate correlation matrix\n",
    "# Sample DataFrame (Replace this with your actual DataFrame)\n",
    "df_slide_merge_ho1_iba1 =df_ho1.merge(df_iba1, on = 'slide')\n",
    "df_merge_all0 = df_slide_merge_ho1_iba1.merge(df_cd206, on ='slide')\n",
    "# Replace \"data.csv\" with the actual file path of your CSV file\n",
    "file_path = \"ckit_counts.csv\"\n",
    "\n",
    "# Read the CSV file into a pandas DataFrame\n",
    "df_ckit = pd.read_csv(file_path, delimiter = ';')\n",
    "\n",
    "\n",
    "\n",
    "df_merge_all = df_merge_all0.merge(df_ckit, on ='slide')\n",
    "#print(df_merge_all)\n",
    "\n",
    "\n",
    "\n",
    "\n",
    "df_merge_all.columns = ['slide', 'ho1', 'iba1', 'cd206', 'ckit']\n",
    "\n",
    "# Calculate the correlation matrix for the three columns\n",
    "correlation_matrix = df_merge_all.corr()\n",
    "\n",
    "print(correlation_matrix)\n",
    "\n",
    "#create scatter plot\n",
    "plt.scatter(df_merge_all['cd206'], df_merge_all['iba1'])\n",
    "\n",
    "# Add labels and title\n",
    "plt.xlabel('CD206 [Zellen/mpf]', fontsize = 12)\n",
    "plt.ylabel('IBA1 [Zellen/mpf]', fontsize = 12)\n",
    "plt.title('Korrelation von IBA1 und CD206', fontsize = 14)\n",
    "\n",
    "# Show the plot\n",
    "plt.show()\n"
   ]
  }
 ],
 "metadata": {
  "kernelspec": {
   "display_name": "base",
   "language": "python",
   "name": "python3"
  },
  "language_info": {
   "codemirror_mode": {
    "name": "ipython",
    "version": 3
   },
   "file_extension": ".py",
   "mimetype": "text/x-python",
   "name": "python",
   "nbconvert_exporter": "python",
   "pygments_lexer": "ipython3",
   "version": "3.8.3"
  },
  "orig_nbformat": 4
 },
 "nbformat": 4,
 "nbformat_minor": 2
}
